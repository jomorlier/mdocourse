{
  "cells": [
    {
      "cell_type": "markdown",
      "source": [
        "# **TUTORIAL - Topology Optimization**\n"
      ],
      "metadata": {
        "nteract": {
          "transient": {
            "deleting": false
          }
        }
      }
    },
    {
      "cell_type": "markdown",
      "source": [
        "---\n",
        "---\n",
        "## **Reference**\n",
        "\n",
        "Andreassen, E., Clausen, A., Schevenels, M. *et al*. Efficient topology optimization in MATLAB using 88 lines of code. *Struct Multidisc Optim* **43**, 1–16 (2011). https://doi.org/10.1007/s00158-010-0594-7"
      ],
      "metadata": {
        "id": "IyutLZhz2ThL"
      }
    },
    {
      "cell_type": "markdown",
      "source": [
        "---\n",
        "---\n",
        "## **Understanding Topology Optimization**\n"
      ],
      "metadata": {
        "id": "S0EKW0Rz09YJ"
      }
    },
    {
      "cell_type": "markdown",
      "source": [
        "---\n",
        "### **Categories of Structural Design Optimization**\n",
        "\n",
        "<img src=\"https://drive.google.com/uc?export=view&id=1bdn910ToWWKQTimV1GiaG5PLzSQvKMPF\" width= 500px;/>\n",
        "\n",
        "a. **Size Optimization**: the objective is to optimize the dimension of an existing design.\n",
        "\n",
        "b. **Shape Optimization**: the objective is optimize the shape of a design with a fixed topology.\n",
        "\n",
        "c. **Topology Optimization**: allows change in connectivity of components, creating holes where not even a guess about the shape is required."
      ],
      "metadata": {
        "id": "39L4xgU73Gby"
      }
    },
    {
      "cell_type": "markdown",
      "source": [
        "---\n",
        "### **Solid Isotropic Material with Penalization (SIMP)**\n",
        "\n",
        "<img src=\"https://drive.google.com/uc?export=view&id=12Ygj9uGiJH4RvT102GoXiaFH6JAnxVYg\" width= 600px;/>\n",
        "\n",
        "* **Material is distributed** in a given spatial domain to minimize a function and satisfy design constraints.\n",
        "* The design domain is subdivided using **four noded rectangular elements**, each node consists of **2 DOF** and each element $e$ is associated with a density function $\\rho_e$.\n",
        "* Density values range from **0 to 1** denotes a void and a solid element, respectively.\n",
        "* Intermediate densities are also allowed to perform a continuous optimization problem but are **penalized** to avoid intermediate densities in the final design.\n",
        "* The **Young’s modulus** of elements with intermediate densities can be written as follows:\n",
        "\n",
        "$$\n",
        "    E_e = E_{min} + \\rho_e^p (E_0 - E_{min})\n",
        "$$\n",
        "where:\n",
        "\n",
        "&nbsp;\n",
        "$E_e$ and $\\rho_e$ are the Young's modulus and density of an element respectively.\n",
        "\n",
        "&nbsp;\n",
        "$E_0$ and $E_{min}$ represents a fixed value of Young’s modulus of the solid and void element respectively.\n",
        "\n",
        "&nbsp;\n",
        "$p$ is the penalization factor used to ensure black-and-white solutions, typically $p\\geq3$."
      ],
      "metadata": {
        "id": "SHU8V4ObDGoE"
      }
    },
    {
      "cell_type": "markdown",
      "source": [
        "---\n",
        "### **Problem Formulation**\n",
        "\n",
        "- A common objective in structural topology optimization is to **minimize the compliance** and **satisfy constraints**.\n",
        "- Compliance or strain energy is the amount of energy stored in a body under **elastic deformation**. \n",
        "- **Minimizing compliance** leads to **maximizing the stiffness** of a structure.\n",
        "- TO problem can be formulated as follows:\n",
        "\n",
        "$$\n",
        "\\begin{aligned}\n",
        "& \\underset{\\boldsymbol{\\rho}}{\\text{minimize}}\n",
        "& & C(\\boldsymbol{\\rho})=\\textbf{U}^\\text{T}\\textbf{K}\\textbf{U}=\\sum_{e=1}^{N} \\rho_e^p\\textbf{u}_\\textbf{e}^\\text{T}\\textbf{k}_\\textbf{0}\\textbf{u}_\\textbf{e}\\\\\n",
        "& \\text{subject to}\n",
        "& &V(\\boldsymbol{\\rho}) \\leq V^*\\\\\n",
        "& & & \\textbf{K}(\\boldsymbol{\\rho})\\textbf{U}(\\boldsymbol{\\rho})=\\textbf{F}(\\boldsymbol{\\rho})\\\\\n",
        "& & & 0<\\boldsymbol{\\rho}_\\text{min}\\leq\\boldsymbol{\\rho}\\leq1\\\\\n",
        "\\end{aligned}\n",
        "$$\n",
        "\n",
        "where:\n",
        "\n",
        "&nbsp;\n",
        "$\\textbf{U}$ and $\\textbf{F}$ are the global displacement and force vectors respectively.\n",
        "\n",
        "&nbsp;\n",
        "$\\textbf{K}$ is the global stiffness matrix.\n",
        "\n",
        "&nbsp;\n",
        "$\\textbf{u}_\\textbf{e}$ and $\\textbf{k}_\\textbf{0}$ are the element displacement vector and stiffness matrix respectively.\n",
        "\n",
        "&nbsp;\n",
        "$\\boldsymbol\\rho$ is the vector of design variables.\n",
        "\n",
        "&nbsp;\n",
        "$\\boldsymbol\\rho_\\text{min}$ is a vector of minimum relative densities (non-zero to avoid matrix singularity).\n",
        "\n",
        "&nbsp;\n",
        "$N$ is the number of elements used to discretize the design domain.\n",
        "\n",
        "&nbsp;\n",
        "$V(\\boldsymbol\\rho)$ and $V^*$ are the material volume and prescribed volume fraction respectively.\n",
        "\n",
        "&nbsp;\n",
        "\n",
        "<img src=\"https://drive.google.com/uc?export=view&id=1gj1BITlU24-8ZCxy0y1q624naCbnsXzr\" width= 800px;/>\n",
        "\n",
        "**Figure:** Cantilever beam problem (60% volume fraction)\n",
        "\n",
        "**Figure Reference:** Hamza, K., Aly, M., and Hegazi, H. (November 7, 2013). \"A Kriging-Interpolated Level-Set Approach for Structural Topology Optimization.\" ASME. *J. Mech. Des.* January 2014; 136(1): 011008. https://doi.org/10.1115/1.4025706"
      ],
      "metadata": {
        "id": "HZy_eQN36-qw"
      }
    },
    {
      "cell_type": "markdown",
      "source": [
        "---\n",
        "\n",
        "### **Sensitivity Analysis and Filtering**\n",
        "\n",
        "The sensitivity of the objective function with respect to the design variable is required for the **gradient-based optimization** algorithm to update the topology. The sensitivity $\\frac{\\partial C}{\\partial \\rho_e}$ of the objective function $C$ with respect to the element densities $\\rho_e$ is computed as in:\n",
        "\n",
        "$$\n",
        "    \\frac{\\partial C}{\\partial \\rho_e}=-p(\\rho_e)^{p-1}\\textbf{u}_\\textbf{e}^\\text{T}\\textbf{k}_\\textbf{0}\\textbf{u}_\\textbf{e}\n",
        "$$\n",
        "\n",
        "&emsp;\n",
        "\n",
        "Mesh-independency filter is used to ensure the existence of solutions to the topology optimization problem by modifying the element sensitivities as follow:\n",
        "\n",
        "$$\n",
        "    \\frac{\\widehat{\\partial C}}{\\partial \\rho_e}=\\frac{\\sum_{j=1}^{N}\\widehat{H}_j \\rho_j\\frac{\\partial C}{\\partial \\rho_j}}{\\rho_e\\sum_{j=1}^{N}\\widehat{H}_j} \n",
        "$$\n",
        "\n",
        "The weight factor $\\widehat{H}_j$ can be calculated as\n",
        "\n",
        "$$\n",
        "    \\widehat{H}_j=r_\\text{min}-\\text{dist}(e,j)\n",
        "$$\n",
        "where:\n",
        "- Operator $\\text{dist}(e,j)$ is defined as the distance between center of element $e$ and center of element $j$.\n",
        "- The weight factor $\\widehat{H}_j$ is zero outside of the filter area $r_\\text{min}$."
      ],
      "metadata": {
        "id": "5ve_qWPdX9X_"
      }
    },
    {
      "cell_type": "markdown",
      "source": [
        "---\n",
        "### **Flowchart**\n",
        "\n",
        "<img src=\"https://drive.google.com/uc?export=view&id=1NoTXIgkM-RuDFBU3M79eUuG4D5pnL4Fk\" width= 250px;/>"
      ],
      "metadata": {
        "id": "80H_6IUh3wIc"
      }
    },
    {
      "cell_type": "markdown",
      "source": [
        "---\n",
        "---\n",
        "## **Let's Get our Hands On!**\n",
        "\n",
        "**From Website**\n",
        "\n",
        "https://www.topopt.mek.dtu.dk/Apps-and-software/Topology-optimization-codes-written-in-Python\n",
        "\n",
        "&nbsp;\n",
        "\n",
        "**Run The Code**"
      ],
      "metadata": {
        "id": "VtXgoTAyceUP"
      }
    },
    {
      "cell_type": "code",
      "source": [
        "#@title Topology Optimization Code\n",
        "# A 165 LINE TOPOLOGY OPTIMIZATION CODE BY NIELS AAGE AND VILLADS EGEDE JOHANSEN, JANUARY 2013\n",
        "\n",
        "from __future__ import division\n",
        "import numpy as np\n",
        "from scipy.sparse import coo_matrix\n",
        "from scipy.sparse.linalg import spsolve\n",
        "from matplotlib import colors\n",
        "import matplotlib.pyplot as plt\n",
        "\n",
        "# MAIN DRIVER\n",
        "def main(nelx,nely,volfrac,penal,rmin):\n",
        "  print(\"Minimum compliance problem with OC\")\n",
        "  print(\"ndesign        : \" + str(nelx) + \" x \" + str(nely))\n",
        "  print(\"volfrac        : \" + str(volfrac))\n",
        "  print(\"penal          : \" + str(penal))\n",
        "  print(\"rmin           : \" + str(rmin))\n",
        "  print(\"-----------------------------------------------\")\n",
        "\n",
        "  # Max and min stiffness\n",
        "  Emin    = 1e-9\n",
        "  Emax    = 1.0\n",
        "\n",
        "  # dofs:\n",
        "  ndof    = 2*(nelx+1)*(nely+1)\n",
        "\n",
        "  # Allocate design variables (as array), initialize and allocate sens\n",
        "  x       = volfrac * np.ones(nely*nelx,dtype=float)\n",
        "  xold    = x.copy()\n",
        "  xPhys   = x.copy()\n",
        "  g       = 0 # must be initialized to use the NGuyen/Paulino OC approach\n",
        "  dc      = np.zeros((nely,nelx), dtype=float)\n",
        "\n",
        "  # FE: Build the index vectors for the for coo matrix format\n",
        "  KE      = lk()\n",
        "  edofMat = np.zeros((nelx*nely,8),dtype=int)\n",
        "  for elx in range(nelx):\n",
        "    for ely in range(nely):\n",
        "      el            = ely+elx*nely\n",
        "      n1            = (nely+1)*elx+ely\n",
        "      n2            = (nely+1)*(elx+1)+ely\n",
        "      edofMat[el,:] = np.array([2*n1+2, 2*n1+3, 2*n2+2, 2*n2+3,2*n2, 2*n2+1, 2*n1, 2*n1+1])\n",
        "\n",
        "  # Construct the index pointers for the coo format\n",
        "  iK      = np.kron(edofMat,np.ones((8,1))).flatten()\n",
        "  jK      = np.kron(edofMat,np.ones((1,8))).flatten()    \n",
        "\n",
        "  # Filter: Build (and assemble) the index+data vectors for the coo matrix format\n",
        "  nfilter = int(nelx*nely*((2*(np.ceil(rmin)-1)+1)**2))\n",
        "  iH      = np.zeros(nfilter)\n",
        "  jH      = np.zeros(nfilter)\n",
        "  sH      = np.zeros(nfilter)\n",
        "  cc      = 0\n",
        "  for i in range(nelx):\n",
        "    for j in range(nely):\n",
        "      row = i*nely+j\n",
        "      kk1 = int(np.maximum(i-(np.ceil(rmin)-1),0))\n",
        "      kk2 = int(np.minimum(i+np.ceil(rmin),nelx))\n",
        "      ll1 = int(np.maximum(j-(np.ceil(rmin)-1),0))\n",
        "      ll2 = int(np.minimum(j+np.ceil(rmin),nely))\n",
        "      for k in range(kk1,kk2):\n",
        "        for l in range(ll1,ll2):\n",
        "          col     = k*nely+l\n",
        "          fac     = rmin-np.sqrt(((i-k)*(i-k)+(j-l)*(j-l)))\n",
        "          iH[cc]  = row\n",
        "          jH[cc]  = col\n",
        "          sH[cc]  = np.maximum(0.0,fac)\n",
        "          cc      = cc+1\n",
        "\n",
        "  # Finalize assembly and convert to csc format\n",
        "  H       = coo_matrix((sH,(iH,jH)),shape=(nelx*nely,nelx*nely)).tocsc()\t\n",
        "  Hs      = H.sum(1)\n",
        "\n",
        "  # Solution and RHS vectors\n",
        "  f       = np.zeros((ndof,1))\n",
        "  u       = np.zeros((ndof,1))\n",
        "\n",
        "  # Set load\n",
        "  f[(2*nelx+1)*(nely+1),0] = -1\n",
        "\n",
        "  # BC's and support\n",
        "  dofs = np.arange(2*(nelx+1)*(nely+1))\n",
        "  fixed = dofs[0:2*(nely+1):1]\n",
        "  free = np.setdiff1d(dofs,fixed)\n",
        "\n",
        "  # Set loop counter and gradient vectors \n",
        "  loop    = 0\n",
        "  change  = 1\n",
        "  dv      = np.ones(nely*nelx)\n",
        "  dc      = np.ones(nely*nelx)\n",
        "  ce      = np.ones(nely*nelx)\n",
        "\n",
        "  while change>0.01 and loop<500:\n",
        "    loop      = loop+1\n",
        "\n",
        "    # Setup and solve FE problem\n",
        "    sK        =((KE.flatten()[np.newaxis]).T*(Emin+(xPhys)**penal*(Emax-Emin))).flatten(order='F')\n",
        "    K         = coo_matrix((sK,(iK,jK)),shape=(ndof,ndof)).tocsc()\n",
        "\n",
        "    # Remove constrained dofs from matrix\n",
        "    K         = K[free,:][:,free]\n",
        "\n",
        "    # Solve system \n",
        "    u[free,0] = spsolve(K,f[free,0])   \n",
        "\n",
        "    # Objective and sensitivity\n",
        "    ce[:]     = (np.dot(u[edofMat].reshape(nelx*nely,8),KE) * u[edofMat].reshape(nelx*nely,8)).sum(1)\n",
        "    obj       = ((Emin+xPhys**penal*(Emax-Emin))*ce ).sum()\n",
        "    dc[:]     = (-penal*xPhys**(penal-1)*(Emax-Emin))*ce\n",
        "    dv[:]     = np.ones(nely*nelx)\n",
        "\n",
        "    # Sensitivity filtering\n",
        "    dc[:]   = np.asarray(H*(dc[np.newaxis].T/Hs))[:,0]\n",
        "    dv[:]   = np.asarray(H*(dv[np.newaxis].T/Hs))[:,0]\n",
        "\n",
        "    # Optimality criteria\n",
        "    xold[:]   = x\n",
        "    (x[:],g)  = oc(nelx,nely,x,volfrac,dc,dv,g)\n",
        "\n",
        "    # Filter design variables\n",
        "    xPhys[:]  = np.asarray(H*x[np.newaxis].T/Hs)[:,0]\n",
        "\n",
        "    # Compute the change by the inf. norm\n",
        "    change  = np.linalg.norm(x.reshape(nelx*nely,1)-xold.reshape(nelx*nely,1),np.inf)\n",
        "\n",
        "    # Write iteration history to screen\n",
        "    if loop==1 or loop==5 or loop==20 or change<0.01:\n",
        "      print(\"it: {0} | obj: {1:.3f} | Vol: {2:.3f} | ch: {3:.3f}\".format(\\\n",
        "        loop,obj,(g+volfrac*nelx*nely)/(nelx*nely),change))\n",
        "      \n",
        "      # Plot to screen\n",
        "      plt.ion() # Ensure that redrawing is possible\n",
        "      fig,ax        = plt.subplots()\n",
        "      im            = ax.imshow(-xPhys.reshape((nelx,nely)).T, cmap='gray',\\\n",
        "      interpolation = 'none',norm=colors.Normalize(vmin=-1,vmax=0))\n",
        "      fig.show()\n",
        "      im.set_array(-xPhys.reshape((nelx,nely)).T)\n",
        "      plt.draw()\n",
        "      plt.show()\n",
        " \n",
        "# Element stiffness matrix\n",
        "def lk():\n",
        "  E   = 1\n",
        "  nu  = 0.3\n",
        "  k   = np.array([1/2-nu/6,1/8+nu/8,-1/4-nu/12,-1/8+3*nu/8,-1/4+nu/12,-1/8-nu/8,nu/6,1/8-3*nu/8])\n",
        "  KE  = E/(1-nu**2)*np.array([ [k[0], k[1], k[2], k[3], k[4], k[5], k[6], k[7]],\n",
        "  [k[1], k[0], k[7], k[6], k[5], k[4], k[3], k[2]],\n",
        "  [k[2], k[7], k[0], k[5], k[6], k[3], k[4], k[1]],\n",
        "  [k[3], k[6], k[5], k[0], k[7], k[2], k[1], k[4]],\n",
        "  [k[4], k[5], k[6], k[7], k[0], k[1], k[2], k[3]],\n",
        "  [k[5], k[4], k[3], k[2], k[1], k[0], k[7], k[6]],\n",
        "  [k[6], k[3], k[4], k[1], k[2], k[7], k[0], k[5]],\n",
        "  [k[7], k[2], k[1], k[4], k[3], k[6], k[5], k[0]] ]);\n",
        "  return (KE)\n",
        " \n",
        "# Optimality criteria\n",
        "def oc(nelx,nely,x,volfrac,dc,dv,g):\n",
        "  l1    = 0\n",
        "  l2    = 1e9\n",
        "  move  = 0.2\n",
        "  # Reshape to perform vector operations\n",
        "  xnew  = np.zeros(nelx*nely)\n",
        "  while (l2-l1)/(l1+l2)>1e-3:\n",
        "    lmid    = 0.5*(l2+l1)\n",
        "    xnew[:] = np.maximum(0.0,np.maximum(x-move,np.minimum(1.0,np.minimum(x+move,x*np.sqrt(-dc/dv/lmid)))))\n",
        "    gt      = g + np.sum((dv*(xnew-x)))\n",
        "    if gt>0 :\n",
        "      l1  = lmid\n",
        "    else:\n",
        "      l2  = lmid\n",
        "  return (xnew,gt)"
      ],
      "outputs": [],
      "execution_count": null,
      "metadata": {
        "id": "T1jPBhTxxv0G",
        "cellView": "form"
      }
    },
    {
      "cell_type": "markdown",
      "source": [
        "`main(nelx,nely,volfrac,penal,rmin)`\n",
        "\n",
        "where the variables denote the following:\n",
        "- `nelx` is the number of finite elements in the horizontal direction.\n",
        "- `nely` is the number of finite elements in the vertical direction.\n",
        "- `volfrac` is the fraction of volume in the design domain.\n",
        "- `penal` is the penalization of intermediate densities.<br>\n",
        "A high penalization will make the solution black and white, that is the finite elements will either be filled or empty.<br>\n",
        "Usually `penal = 3` sufficies. A penalization `penal = 1` means that there is no penalty of the intermediate densities.\n",
        "- `rmin` is a filter radius for a filter which makes the design mesh-independent. "
      ],
      "metadata": {
        "id": "AF0DGM4uPuVZ"
      }
    },
    {
      "cell_type": "markdown",
      "source": [
        "---\n",
        "### **Case I - Cantilever Beam**\n",
        "\n",
        "<img src=\"https://drive.google.com/uc?export=view&id=1gRpvW4ETh9kEmVR22qszSTgp_IeCH1az\" width= 400px;/>\n",
        "\n",
        "- The design domain length ratio 2:1.\n",
        "- The left and right side of cantilever beam is fixed-free respectively.\n",
        "- A concentrated force is vertically applied at the middle point of the right side.\n",
        "- Each Node has 2 DOFS : horizontal and vertical.\n",
        "\n",
        "&nbsp;\n",
        "\n",
        "**Boundary Conditions**\n",
        "\n",
        "`# Set load`<br>\n",
        "`f[(2*nelx+1)*(nely+1),0]    = -1`\n",
        "\n",
        "specifies that there is a force of -1 at the right side middle row of the node. Minus sign means the force is acting downwards with magnitude value of 1.\n",
        "\n",
        "<br>\n",
        "\n",
        "`# BC's and support`<br>\n",
        "`dofs    = np.arange(2*(nelx+1)*(nely+1))`<br>\n",
        "`fixed   = dofs[0:2*(nely+1):1]`<br>\n",
        "`free    = np.setdiff1d(dofs,fixed)`<br>\n",
        "\n",
        "The code `dofs[0:2*(nely+1):1]` are x directions of all nodes to the left side of the structure.\n",
        "\n",
        "&nbsp;\n",
        "\n",
        "**Run the code**\n",
        "\n",
        "- `main(nelx=100,nely=50,volfrac=0.4,penal=3.0,rmin=2.5)`\n",
        "\n",
        "\n"
      ],
      "metadata": {
        "id": "WktmDIakxMrp"
      }
    },
    {
      "cell_type": "code",
      "source": [
        "main(nelx=100,nely=50,volfrac=0.4,penal=3.0,rmin=2.5)"
      ],
      "outputs": [],
      "execution_count": null,
      "metadata": {
        "id": "a5rmZ8kI04Dm"
      }
    },
    {
      "cell_type": "markdown",
      "source": [
        "**Cantilever Beam Topology Optimized Result**\n",
        "\n",
        "<img src=\"https://drive.google.com/uc?export=view&id=1Zt8ufvQCaG0C0sWQvpTVt4_qu0ZuAXum\" width= 350px;/>"
      ],
      "metadata": {
        "id": "ryH45r0uweiz"
      }
    },
    {
      "cell_type": "markdown",
      "source": [
        "#### **Let's Study the Parameters**\n",
        "\n",
        "Objective : Compare the topology results and its compliance value.\n",
        "\n",
        "&nbsp;\n",
        "\n",
        "Question 1 : **Is the design dependent on the mesh?**\n",
        "\n",
        "Note that the radius of the filter must be increased in proportion to the discretization (in x, y).\n",
        "\n",
        "- `main(nelx=100,nely=50,volfrac=0.4,penal=3.0,rmin=2.5)`\n",
        "- `main(nelx= 80,nely=40,volfrac=0.4,penal=3.0,rmin=2.0)`\n",
        "- `main(nelx= 60,nely=30,volfrac=0.4,penal=3.0,rmin=1.5)`\n",
        "\n",
        "&nbsp;\n",
        "\n",
        "Question 2 : **Influence of Volume Fraction?**\n",
        "\n",
        "- `main(nelx=100,nely=50,volfrac=0.4,penal=3.0,rmin=2.5)`\n",
        "- `main(nelx=100,nely=50,volfrac=0.3,penal=3.0,rmin=2.5)`\n",
        "- `main(nelx=100,nely=50,volfrac=0.2,penal=3.0,rmin=2.5)`\n",
        "\n",
        "&nbsp;\n",
        "\n",
        "Question 3 : **Influence of Penal?**\n",
        "\n",
        "- `main(nelx=100,nely=50,volfrac=0.4,penal=3.0,rmin=2.5)`\n",
        "- `main(nelx=100,nely=50,volfrac=0.4,penal=1.0,rmin=2.5)`\n",
        "\n",
        "&nbsp;\n",
        "\n",
        "Question 4 : **Filter Analysis**\n",
        "\n",
        "You can disable the filter by setting rmin to less than 1 or by making the filter inactive from the code.\n",
        "\n",
        "- `main(nelx=100,nely=50,volfrac=0.4,penal=3.0,rmin=2.5)`\n",
        "- `main(nelx=100,nely=50,volfrac=0.4,penal=3.0,rmin=1.0)`\n",
        "\n",
        "&nbsp;\n",
        "\n",
        "**Now, run more codes to gain insights from each parameter**\n"
      ],
      "metadata": {
        "id": "zkVj8aU35HeB"
      }
    },
    {
      "cell_type": "code",
      "source": [
        "main(nelx= 80,nely=40,volfrac=0.4,penal=3.0,rmin=2.0)"
      ],
      "outputs": [],
      "execution_count": null,
      "metadata": {
        "id": "IZxKmr5Fv5Xb"
      }
    },
    {
      "cell_type": "code",
      "source": [
        "main(nelx= 60,nely=30,volfrac=0.4,penal=3.0,rmin=1.5)"
      ],
      "outputs": [],
      "execution_count": null,
      "metadata": {
        "id": "Vl7hVa-cs5vv"
      }
    },
    {
      "cell_type": "markdown",
      "source": [
        "&nbsp;\n",
        "\n",
        "#### **Effect of Each Parameter**\n",
        "\n",
        "&nbsp;\n",
        "\n",
        "Question 1 : **Is the design dependent on the mesh?**\n",
        "\n",
        "<img src=\"https://drive.google.com/uc?export=view&id=1IoygTLeYSue4jp3GYAJks5X75HLImGam\" width= 600px;/>\n",
        "\n",
        "- Mesh doesn't affect the optimized topology design.\n",
        "- Mesh doesn't affect compliance value.\n",
        "- A denser mesh provides a smoother result.\n",
        "\n",
        "&nbsp;\n",
        "\n",
        "Question 2 : **Influence of Volume Fraction?**\n",
        "\n",
        "<img src=\"https://drive.google.com/uc?export=view&id=1S3wxPbEdurHpQBwP_auDcHdYqj3RHNzu\" width= 600px;/>\n",
        "\n",
        "- Volume fraction shows the percent of materials occupied in a domain.\n",
        "- Lower volume fraction leads to a higher compliance value and vice versa.\n",
        "- Higher compliance value leads to a higher amount of energy stored in a body under **elastic deformation** (less stiff).\n",
        "\n",
        "&nbsp;\n",
        "\n",
        "Question 3 : **Influence of Penal?**\n",
        "\n",
        "<img src=\"https://drive.google.com/uc?export=view&id=1iPIkoZnr8_SA6syr8wizCILUFrzhD5Y7\" width= 388px;/>\n",
        "\n",
        "- Penalization ensure black and white solution.\n",
        "- Without penalization, intermediate densities will occur in our solution. \n",
        "- Although `penal = 1.0` produces lower compliance value (better than `penal = 3.0`), but it has no meaning in manufacturability.\n",
        "\n",
        "&nbsp;\n",
        "\n",
        "Question 4 : **Filter Analysis**\n",
        "\n",
        "<img src=\"https://drive.google.com/uc?export=view&id=1fy_tfHzDm4s2A_BxC1NuO-tmOiVPCwTH\" width= 388px;/>\n",
        "\n",
        "- Filter doesn't affect compliance value.\n",
        "- Filter will provide a smoother topology solution and manufacturable.\n"
      ],
      "metadata": {
        "id": "GKIroRv9Snxp"
      }
    },
    {
      "cell_type": "markdown",
      "source": [
        "---\n",
        "### **Case II - Simply Supported Beam**\n",
        "\n",
        "<img src=\"https://drive.google.com/uc?export=view&id=1PuT4U4q_SYSmGO9t-I_fiTeFLmIKkjXU\" width= 600px;/>\n",
        "\n",
        "- The design domain length ratio 3:1.\n",
        "- The full design structure is supported with a pin and a roll at each ends with a with a mid-span vertically loaded.\n",
        "- Each Node has 2 DOFS : horizontal and vertical.\n",
        "\n",
        "&nbsp;\n",
        "\n",
        "**Boundary Conditions**\n",
        "\n",
        "`# Set load`<br>\n",
        "`f[1,0]    = -1`\n",
        "\n",
        "specifies a force of -1 at the second row of the vector f in the y direction of the first node. The force is acting downwards with magnitude value of 1.\n",
        "\n",
        "&nbsp;\n",
        "\n",
        "`# BC's and support`<br>\n",
        "`dofs    = np.arange(2*(nelx+1)*(nely+1))`<br>\n",
        "`fixed   = np.union1d(dofs[0:2*(nely+1):2],dofs[2*(nelx+1)*(nely+1)-1])`<br>\n",
        "`free    = np.setdiff1d(dofs,fixed)`<br>\n",
        "\n",
        "The code `dofs[0:2*(nely+1):2]` are x directions of all nodes to the left side of the structure and `dofs[2*(nelx+1)*(nely+1)-1]` is the y direction of the last node (right bottom corner). \n",
        "\n",
        "&nbsp;\n",
        "\n",
        "**Run the code**\n",
        "\n",
        "- `main(nelx=90,nely=30,volfrac=0.4,penal=3.0,rmin=2.5)`"
      ],
      "metadata": {
        "id": "QvKbJWrsDtfD"
      }
    },
    {
      "cell_type": "code",
      "source": [
        "main(nelx=90,nely=30,volfrac=0.4,penal=3.0,rmin=2.5)"
      ],
      "outputs": [],
      "execution_count": null,
      "metadata": {
        "id": "SfQ9d9TSxXXY"
      }
    },
    {
      "cell_type": "markdown",
      "source": [
        "**Simply Supported Beam Topology Optimized Result**\n",
        "\n",
        "<img src=\"https://drive.google.com/uc?export=view&id=14Z3oYXXT9CtV0Z6a8CDRqxX-Q-4xo8rr\" width= 300px;/>"
      ],
      "metadata": {
        "id": "wCK50Rez_B3U"
      }
    },
    {
      "cell_type": "markdown",
      "source": [
        "---\n",
        "### **Case III - Bicycle Frame**\n",
        "\n",
        "<img src=\"https://drive.google.com/uc?export=view&id=12aNREp08rpxpJLOcycLNkbb_-pAQLvuO\" width= 350px;/>\n",
        "\n",
        "- The reaction of the wheel produces a vertical force at the front.\n",
        "- The bar under the saddle is recesse.\n",
        "- The design domain length ratio 1:1.\n",
        "- Each Node has 2 DOFS : horizontal and vertical.\n",
        "\n",
        "&nbsp;\n",
        "\n",
        "**Boundary Conditions**\n",
        "\n",
        "`# Set load`<br>\n",
        "`f[1,0]    = 1`\n",
        "\n",
        "specifies a force of 1 at the second row of the vector f in the y direction of the first node. The force is acting upwards with magnitude value of 1.\n",
        "\n",
        "&nbsp;\n",
        "\n",
        "`# BC's and support`<br>\n",
        "`dofs    = np.arange(2*(nelx+1)*(nely+1))`<br>\n",
        "`fixed   = dofs[2*(nelx)*(nely+1):2*(nelx+1)*(nely+1):1]`<br>\n",
        "`free    = np.setdiff1d(dofs,fixed)`<br>\n",
        "\n",
        "The code `dofs[2*(nelx)*(nely+1):2*(nelx+1)*(nely+1):1]` are x directions of all nodes to the right side of the structure.\n",
        "\n",
        "&nbsp;\n",
        "\n",
        "**Run the code**\n",
        "\n",
        "- `main(nelx=60,nely=60,volfrac=0.3,penal=3.0,rmin=2.5)`\n"
      ],
      "metadata": {
        "id": "o8b_v3voH4Ab"
      }
    },
    {
      "cell_type": "code",
      "source": [
        "main(nelx=60,nely=60,volfrac=0.3,penal=3.0,rmin=2.5)"
      ],
      "outputs": [],
      "execution_count": null,
      "metadata": {
        "id": "dlAQtM80xoaA"
      }
    },
    {
      "cell_type": "markdown",
      "source": [
        "**Bicycle Frame Topology Optimized Result**\n",
        "\n",
        "<img src=\"https://drive.google.com/uc?export=view&id=1vySmUv_pNeLK-vR3JH4Xfj_thHrwVBF2\" width= 300px;/>"
      ],
      "metadata": {
        "id": "9PjiuOpEIuD2"
      }
    }
  ],
  "metadata": {
    "colab": {
      "name": "[Self-Study] Tutorial 4 - Topology Optimization.ipynb",
      "provenance": [],
      "collapsed_sections": []
    },
    "kernelspec": {
      "name": "python3",
      "display_name": "Python 3"
    },
    "language_info": {
      "name": "python",
      "version": "3.8.5",
      "mimetype": "text/x-python",
      "codemirror_mode": {
        "name": "ipython",
        "version": 3
      },
      "pygments_lexer": "ipython3",
      "nbconvert_exporter": "python",
      "file_extension": ".py"
    },
    "accelerator": "GPU",
    "nteract": {
      "version": "0.28.0"
    }
  },
  "nbformat": 4,
  "nbformat_minor": 0
}